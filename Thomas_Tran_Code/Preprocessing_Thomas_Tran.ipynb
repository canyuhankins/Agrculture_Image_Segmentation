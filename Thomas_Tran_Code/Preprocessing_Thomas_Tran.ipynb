{
 "cells": [
  {
   "cell_type": "markdown",
   "id": "efdf7d01",
   "metadata": {},
   "source": [
    "# Preprocessing\n",
    "Thomas Tran"
   ]
  },
  {
   "cell_type": "code",
   "execution_count": 1,
   "id": "60e0ae49",
   "metadata": {},
   "outputs": [],
   "source": [
    "import pandas as pd\n",
    "import matplotlib.pyplot as plt\n",
    "import numpy as np\n",
    "import os\n",
    "from skimage import io"
   ]
  },
  {
   "cell_type": "code",
   "execution_count": 2,
   "id": "354d0884",
   "metadata": {},
   "outputs": [],
   "source": [
    "import pickle"
   ]
  },
  {
   "cell_type": "markdown",
   "id": "ad977a31",
   "metadata": {},
   "source": [
    "### This function goes through folder and changes the pixel values to individual class and saves all masks to a list"
   ]
  },
  {
   "cell_type": "code",
   "execution_count": 3,
   "id": "2350b273",
   "metadata": {},
   "outputs": [],
   "source": [
    "def change_pixels(folder,pixel_value,image_start,image_end,lst):\n",
    "    lst_masks = list()\n",
    "    for i in range(image_start,image_end):\n",
    "        mask = io.imread(folder+lst[i])\n",
    "        mask = np.where(mask>0,pixel_value,mask)\n",
    "        lst_masks.append(mask)\n",
    "    return lst_masks"
   ]
  },
  {
   "cell_type": "markdown",
   "id": "30d4f820",
   "metadata": {},
   "source": [
    "### This function takes a list of labels and puts them all into one mask"
   ]
  },
  {
   "cell_type": "code",
   "execution_count": 4,
   "id": "6d838ce8",
   "metadata": {},
   "outputs": [],
   "source": [
    "def one_mask(images,size_row,size_column):\n",
    "    output = np.zeros((size_row,size_column))\n",
    "    for image in images:\n",
    "        if len(image[np.where(image>0)])!=0:\n",
    "            pixel = image[np.where(image>0)][0]\n",
    "        else:\n",
    "            pixel = 0\n",
    "        output = np.where(image>0,pixel,output)\n",
    "    return output"
   ]
  },
  {
   "cell_type": "code",
   "execution_count": 5,
   "id": "85a0cbf8",
   "metadata": {},
   "outputs": [],
   "source": [
    "lst_folders = ['train/labels/double_plant/','train/labels/drydown/','train/labels/endrow/',\n",
    "               'train/labels/nutrient_deficiency/','train/labels/planter_skip/','train/labels/storm_damage/',\n",
    "               'train/labels/water/','train/labels/waterway/','train/labels/weed_cluster/']"
   ]
  },
  {
   "cell_type": "code",
   "execution_count": 6,
   "id": "573332d2",
   "metadata": {},
   "outputs": [
    {
     "data": {
      "text/plain": [
       "{'train/labels/double_plant/': 1,\n",
       " 'train/labels/drydown/': 2,\n",
       " 'train/labels/endrow/': 3,\n",
       " 'train/labels/nutrient_deficiency/': 4,\n",
       " 'train/labels/planter_skip/': 5,\n",
       " 'train/labels/storm_damage/': 6,\n",
       " 'train/labels/water/': 7,\n",
       " 'train/labels/waterway/': 8,\n",
       " 'train/labels/weed_cluster/': 9}"
      ]
     },
     "execution_count": 6,
     "metadata": {},
     "output_type": "execute_result"
    }
   ],
   "source": [
    "dictionary = dict(zip(lst_folders,[i+1 for i in range(len(lst_folders))]))\n",
    "dictionary"
   ]
  },
  {
   "cell_type": "code",
   "execution_count": 7,
   "id": "d77a6530",
   "metadata": {},
   "outputs": [
    {
     "data": {
      "text/plain": [
       "8000"
      ]
     },
     "execution_count": 7,
     "metadata": {},
     "output_type": "execute_result"
    }
   ],
   "source": [
    "lst = os.listdir('train/labels/double_plant/')\n",
    "len(lst)"
   ]
  },
  {
   "cell_type": "code",
   "execution_count": 8,
   "id": "4bfd897b",
   "metadata": {},
   "outputs": [],
   "source": [
    "individual_mask = []"
   ]
  },
  {
   "cell_type": "code",
   "execution_count": 9,
   "id": "62a2df5e",
   "metadata": {},
   "outputs": [
    {
     "name": "stdout",
     "output_type": "stream",
     "text": [
      "CPU times: user 37 s, sys: 9.59 s, total: 46.6 s\n",
      "Wall time: 2min 30s\n"
     ]
    }
   ],
   "source": [
    "%%time\n",
    "for f in lst_folders:\n",
    "    adjusted_mask = change_pixels(f,dictionary[f],6000,8000,lst)\n",
    "    individual_mask.append(adjusted_mask)"
   ]
  },
  {
   "cell_type": "code",
   "execution_count": 10,
   "id": "73212c1c",
   "metadata": {},
   "outputs": [],
   "source": [
    "number_of_images = len(individual_mask[0])\n",
    "number_of_labels = len(individual_mask)"
   ]
  },
  {
   "cell_type": "code",
   "execution_count": 11,
   "id": "bad59b55",
   "metadata": {},
   "outputs": [
    {
     "name": "stdout",
     "output_type": "stream",
     "text": [
      "CPU times: user 19 s, sys: 966 ms, total: 20 s\n",
      "Wall time: 20 s\n"
     ]
    }
   ],
   "source": [
    "%%time\n",
    "all_mask = list()\n",
    "for i in range(number_of_images):\n",
    "    images=list()\n",
    "    for j in range(number_of_labels):\n",
    "        images.append(individual_mask[j][i])\n",
    "    all_mask.append(one_mask(images,512,512))"
   ]
  },
  {
   "cell_type": "code",
   "execution_count": null,
   "id": "0e48d3f6",
   "metadata": {},
   "outputs": [],
   "source": [
    "%%time\n",
    "with open('first_2000.pickle','rb') as file:\n",
    "    first = pickle.load(file)\n",
    "with open('2000-4000.pickle','rb') as file:\n",
    "    second = pickle.load(file)\n",
    "with open('4000-6000.pickle','rb') as file:\n",
    "    third = pickle.load(file)\n",
    "with open('6000-8000.pickle','rb') as file:\n",
    "    fourth = pickle.load(file)"
   ]
  },
  {
   "cell_type": "code",
   "execution_count": 1,
   "id": "e0a61458",
   "metadata": {},
   "outputs": [
    {
     "ename": "NameError",
     "evalue": "name 'first' is not defined",
     "output_type": "error",
     "traceback": [
      "\u001b[0;31m---------------------------------------------------------------------------\u001b[0m",
      "\u001b[0;31mNameError\u001b[0m                                 Traceback (most recent call last)",
      "Input \u001b[0;32mIn [1]\u001b[0m, in \u001b[0;36m<module>\u001b[0;34m\u001b[0m\n\u001b[0;32m----> 1\u001b[0m all_mask \u001b[38;5;241m=\u001b[39m \u001b[43mfirst\u001b[49m\u001b[38;5;241m+\u001b[39msecond\u001b[38;5;241m+\u001b[39mthird\u001b[38;5;241m+\u001b[39mfourth\n",
      "\u001b[0;31mNameError\u001b[0m: name 'first' is not defined"
     ]
    }
   ],
   "source": [
    "all_mask = first+second+third+fourth"
   ]
  },
  {
   "cell_type": "code",
   "execution_count": null,
   "id": "1657e578",
   "metadata": {},
   "outputs": [],
   "source": [
    "with open('all_mask.pickle','wb') as file:\n",
    "    pickle.dump(all_mask,file)"
   ]
  },
  {
   "cell_type": "code",
   "execution_count": 13,
   "id": "ecc5194b",
   "metadata": {},
   "outputs": [
    {
     "data": {
      "text/plain": [
       "<matplotlib.image.AxesImage at 0x7f470ad888e0>"
      ]
     },
     "execution_count": 13,
     "metadata": {},
     "output_type": "execute_result"
    },
    {
     "data": {
      "image/png": "[encoded data removed]",
      "text/plain": [
       "<Figure size 432x288 with 1 Axes>"
      ]
     },
     "metadata": {
      "needs_background": "light"
     },
     "output_type": "display_data"
    }
   ],
   "source": [
    "plt.imshow(all_mask[0])"
   ]
  },
  {
   "cell_type": "code",
   "execution_count": 15,
   "id": "5254fcd0",
   "metadata": {},
   "outputs": [
    {
     "data": {
      "text/plain": [
       "<matplotlib.image.AxesImage at 0x7f470ac67520>"
      ]
     },
     "execution_count": 15,
     "metadata": {},
     "output_type": "execute_result"
    },
    {
     "data": {
      "image/png": "[encoded data removed]",
      "text/plain": [
       "<Figure size 432x288 with 1 Axes>"
      ]
     },
     "metadata": {
      "needs_background": "light"
     },
     "output_type": "display_data"
    }
   ],
   "source": [
    "plt.imshow(test[0])"
   ]
  }
 ],
 "metadata": {
  "kernelspec": {
   "display_name": "Python 3 (ipykernel)",
   "language": "python",
   "name": "python3"
  },
  "language_info": {
   "codemirror_mode": {
    "name": "ipython",
    "version": 3
   },
   "file_extension": ".py",
   "mimetype": "text/x-python",
   "name": "python",
   "nbconvert_exporter": "python",
   "pygments_lexer": "ipython3",
   "version": "3.8.10"
  }
 },
 "nbformat": 4,
 "nbformat_minor": 5
}
